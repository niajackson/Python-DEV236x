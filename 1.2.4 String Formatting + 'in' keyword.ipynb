{
  "cells": [
    {
      "metadata": {
        "trusted": true
      },
      "cell_type": "code",
      "source": "#[] format with .capitalize(), .lower(), .upper(), .swapcase()\n# [ ] get input for a variable, fav_food, that describes a favorite food\nfav_food = input('Fav food: ')\nprint('I like',fav_food)",
      "execution_count": null,
      "outputs": []
    },
    {
      "metadata": {
        "trusted": true
      },
      "cell_type": "code",
      "source": "# [ ] display fav_food as ALL CAPS, used in a sentence\nprint('I love',fav_food.upper())",
      "execution_count": null,
      "outputs": []
    },
    {
      "metadata": {
        "trusted": true
      },
      "cell_type": "code",
      "source": "# [ ] display fav_food as all lower case, used in a sentence\nprint('I love',fav_food.lower())",
      "execution_count": null,
      "outputs": []
    },
    {
      "metadata": {
        "trusted": true
      },
      "cell_type": "code",
      "source": "# [] display fav_food with swapped case, used in a sentence\nprint('I love',fav_food.swapcase())",
      "execution_count": null,
      "outputs": []
    },
    {
      "metadata": {
        "trusted": true
      },
      "cell_type": "code",
      "source": "# [] display fav_food with capitalization, used in a sentence\nprint('I love',fav_food.capitalize())",
      "execution_count": null,
      "outputs": []
    },
    {
      "metadata": {
        "trusted": true
      },
      "cell_type": "code",
      "source": "# [] display the fav_color variable as upper, lower, swapcase, and capitalize formatting in a single print() statement\nfav_color = 'yellow'\nprint(fav_color.upper(),fav_color.lower(),fav_color.swapcase(),fav_color.capitalize())",
      "execution_count": null,
      "outputs": []
    },
    {
      "metadata": {
        "trusted": true
      },
      "cell_type": "code",
      "source": "# []2:format   input() with .upper()\n# [] input variable fav_color as upper\n# [] print fav_color\nfav_color = input('Favorite Color: ')\nprint(fav_color.upper())",
      "execution_count": null,
      "outputs": []
    },
    {
      "metadata": {
        "trusted": true
      },
      "cell_type": "code",
      "source": "# []3: [ ] add code below testing the menu string variable for 'pizza', 'soup', and 'dessert' using keyword   in\n# [] print 3 tests, with description text, testing the menu variable for 'pizza', 'soup' and 'dessert' \n# menu = \"salad, pasta, sandwich, pizza, drinks, dessert\"\nmenu = \"salad pasta sandwich pizza drinks dessert wings dip shrimp\"\nprint(\"pasta\".lower() in menu.lower())",
      "execution_count": 4,
      "outputs": [
        {
          "output_type": "stream",
          "text": "True\n",
          "name": "stdout"
        }
      ]
    },
    {
      "metadata": {
        "trusted": true
      },
      "cell_type": "code",
      "source": "print(\"salad\".upper() in menu.upper())",
      "execution_count": 5,
      "outputs": [
        {
          "output_type": "stream",
          "text": "True\n",
          "name": "stdout"
        }
      ]
    },
    {
      "metadata": {
        "trusted": true
      },
      "cell_type": "code",
      "source": "print(\"pasta\".lower() in menu.lower())",
      "execution_count": 6,
      "outputs": [
        {
          "output_type": "stream",
          "text": "True\n",
          "name": "stdout"
        }
      ]
    },
    {
      "metadata": {
        "trusted": true
      },
      "cell_type": "code",
      "source": "menu_ask = input(\"Do you have?: \")\nprint(menu_ask.lower() in menu.lower())",
      "execution_count": 8,
      "outputs": [
        {
          "output_type": "stream",
          "name": "stdout",
          "text": "Do you have?: SHRIMP\nTrue\n"
        }
      ]
    },
    {
      "metadata": {
        "trusted": true
      },
      "cell_type": "code",
      "source": "#print the current menu\nprint(menu)",
      "execution_count": 9,
      "outputs": [
        {
          "output_type": "stream",
          "text": "salad pasta sandwich pizza drinks dessert wings dip shrimp\n",
          "name": "stdout"
        }
      ]
    },
    {
      "metadata": {
        "trusted": true
      },
      "cell_type": "code",
      "source": "#get user input for add_item variable\nadd_item = input('What should we add to our menu? ')",
      "execution_count": 24,
      "outputs": [
        {
          "output_type": "stream",
          "name": "stdout",
          "text": "What should we add to our menu?  cheese\n"
        }
      ]
    },
    {
      "metadata": {
        "trusted": true
      },
      "cell_type": "code",
      "source": "#new_menu use string addition to add add_item to menu\nnew_menu = menu + add_item\nprint(new_menu)",
      "execution_count": 35,
      "outputs": [
        {
          "output_type": "stream",
          "text": "salad pasta sandwich pizza drinks dessert wings dip shrimp cheese\n",
          "name": "stdout"
        }
      ]
    },
    {
      "metadata": {
        "trusted": true
      },
      "cell_type": "code",
      "source": "#check if an item is on the menu, check for previous items and the item you added\nmenu_ask = input('Do you have?: ')\nprint(menu_ask.lower() in new_menu.lower())",
      "execution_count": 37,
      "outputs": [
        {
          "output_type": "stream",
          "name": "stdout",
          "text": "Do you have?: CHEESE\nTrue\n"
        }
      ]
    },
    {
      "metadata": {
        "trusted": true
      },
      "cell_type": "code",
      "source": "#[]4: Fix the error\n#paint_colors = \"red, blue, green, black, orange, pink\"\n#print('Red in paint colors = ',red in paint_colors)\npaint_colors = \"red blue green black orange pink\"\nprint(\"red\".lower() in paint_colors.lower())",
      "execution_count": 39,
      "outputs": [
        {
          "output_type": "stream",
          "text": "True\n",
          "name": "stdout"
        }
      ]
    }
  ],
  "metadata": {
    "kernelspec": {
      "name": "python3",
      "display_name": "Python 3",
      "language": "python"
    },
    "language_info": {
      "mimetype": "text/x-python",
      "nbconvert_exporter": "python",
      "name": "python",
      "pygments_lexer": "ipython3",
      "version": "3.5.4",
      "file_extension": ".py",
      "codemirror_mode": {
        "version": 3,
        "name": "ipython"
      }
    }
  },
  "nbformat": 4,
  "nbformat_minor": 1
}