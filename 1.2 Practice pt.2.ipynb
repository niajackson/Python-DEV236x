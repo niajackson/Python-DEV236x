{
  "cells": [
    {
      "metadata": {
        "trusted": true
      },
      "cell_type": "code",
      "source": "#[ ] get user input for a single word describing something that can be read save in a variable called can_read e.g. - \"website\", \"newspaper\", \"blog\", \"textbook\"\ncan_read = input('What do you read? ')\n#[ ] get user input for 3 things can be read save in a variable called can_read_things\ncan_read_things = input('List three things you can read: ')",
      "execution_count": 1,
      "outputs": [
        {
          "output_type": "stream",
          "name": "stdout",
          "text": "What do you read? books\nList three things you can read: magazines, newspapers, journals\n"
        }
      ]
    },
    {
      "metadata": {
        "trusted": true
      },
      "cell_type": "code",
      "source": "#[ ] print true if the can_read string is found in the can_read_things string variable\nprint(can_read in can_read_things)",
      "execution_count": 2,
      "outputs": [
        {
          "output_type": "stream",
          "text": "False\n",
          "name": "stdout"
        }
      ]
    },
    {
      "metadata": {
        "trusted": true
      },
      "cell_type": "code",
      "source": "input_test = input('What have you eaten in the last 24hrs? ')",
      "execution_count": 3,
      "outputs": [
        {
          "output_type": "stream",
          "name": "stdout",
          "text": "What have you eaten in the last 24hrs? seafood, dairy, fries, pickles, ramen\n"
        }
      ]
    },
    {
      "metadata": {
        "trusted": true
      },
      "cell_type": "code",
      "source": "# [ ] print True if \"dairy\" is in the input_test string [ ] Test the code so far\nprint('It is','dairy' in input_test,'was in my diet')",
      "execution_count": 5,
      "outputs": [
        {
          "output_type": "stream",
          "text": "It is True was in my diet\n",
          "name": "stdout"
        }
      ]
    },
    {
      "metadata": {
        "trusted": true
      },
      "cell_type": "code",
      "source": "#[ ] modify the print statement to output similar to below\n",
      "execution_count": null,
      "outputs": []
    }
  ],
  "metadata": {
    "kernelspec": {
      "name": "python3",
      "display_name": "Python 3",
      "language": "python"
    },
    "language_info": {
      "mimetype": "text/x-python",
      "nbconvert_exporter": "python",
      "name": "python",
      "pygments_lexer": "ipython3",
      "version": "3.5.4",
      "file_extension": ".py",
      "codemirror_mode": {
        "version": 3,
        "name": "ipython"
      }
    }
  },
  "nbformat": 4,
  "nbformat_minor": 1
}