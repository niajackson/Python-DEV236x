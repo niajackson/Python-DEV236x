{
  "cells": [
    {
      "metadata": {
        "trusted": true
      },
      "cell_type": "code",
      "source": "# Example: review and run code - enter a small integer in the text box\nprint('enter a small int: ')\nsmall_int = input()",
      "execution_count": 1,
      "outputs": [
        {
          "output_type": "stream",
          "text": "enter a small int: \n2\n",
          "name": "stdout"
        }
      ]
    },
    {
      "metadata": {
        "trusted": true
      },
      "cell_type": "code",
      "source": "# Example Pt. 2\nprint('small int: ')\nprint(small_int)",
      "execution_count": 2,
      "outputs": [
        {
          "output_type": "stream",
          "text": "small int: \n2\n",
          "name": "stdout"
        }
      ]
    },
    {
      "metadata": {
        "trusted": true
      },
      "cell_type": "code",
      "source": "# [] storing input in a variable\n# [ ] get input for the variable student_name\nprint('Student name is ')\nstudent_name = input()",
      "execution_count": 3,
      "outputs": [
        {
          "output_type": "stream",
          "text": "Student name is \nAvery\n",
          "name": "stdout"
        }
      ]
    },
    {
      "metadata": {
        "trusted": true
      },
      "cell_type": "code",
      "source": "# [ ] determine the type of student_name\ntype(student_name)",
      "execution_count": 4,
      "outputs": [
        {
          "output_type": "execute_result",
          "execution_count": 4,
          "data": {
            "text/plain": "str"
          },
          "metadata": {}
        }
      ]
    },
    {
      "metadata": {
        "trusted": true
      },
      "cell_type": "code",
      "source": "# [ ] determine the type of input below by entering: a name, an integer, and float  \nprint('enter a name or number')\ntest_input = input()",
      "execution_count": 5,
      "outputs": [
        {
          "output_type": "stream",
          "text": "enter a name or number\n5\n",
          "name": "stdout"
        }
      ]
    },
    {
      "metadata": {
        "trusted": true
      },
      "cell_type": "code",
      "source": "type(test_input)",
      "execution_count": 6,
      "outputs": [
        {
          "output_type": "execute_result",
          "execution_count": 6,
          "data": {
            "text/plain": "str"
          },
          "metadata": {}
        }
      ]
    },
    {
      "metadata": {
        "trusted": true
      },
      "cell_type": "code",
      "source": "# Example: Input prompts\nstudent_name = input(\"enter the student name: \")\nprint(\"Hi \" + student_name)",
      "execution_count": 7,
      "outputs": [
        {
          "output_type": "stream",
          "name": "stdout",
          "text": "enter the student name: Avery\nHi Avery\n"
        }
      ]
    },
    {
      "metadata": {
        "trusted": true
      },
      "cell_type": "code",
      "source": "# []2: propmpting the user for input\ncity = input('Enter city here')\nprint('The city name is '+ city)",
      "execution_count": 8,
      "outputs": [
        {
          "output_type": "stream",
          "name": "stdout",
          "text": "Enter city hereDC\nThe city name is DC\n"
        }
      ]
    },
    {
      "metadata": {
        "trusted": true
      },
      "cell_type": "code",
      "source": "# []2: multiple prompts for user input\nname = input('Name? ')\nage = input('Age?')\nget_mail = input('Want some mail? ')\nprint('Name: '+ name)\nprint('Age: ' + age)\nprint('Mail: ' + get_mail)",
      "execution_count": 10,
      "outputs": [
        {
          "output_type": "stream",
          "name": "stdout",
          "text": "Name? Love\nAge?19\nWant some mail? No\nName: Love\nAge: 19\nMail: No\n"
        }
      ]
    }
  ],
  "metadata": {
    "kernelspec": {
      "name": "python3",
      "display_name": "Python 3",
      "language": "python"
    },
    "language_info": {
      "mimetype": "text/x-python",
      "nbconvert_exporter": "python",
      "name": "python",
      "pygments_lexer": "ipython3",
      "version": "3.5.4",
      "file_extension": ".py",
      "codemirror_mode": {
        "version": 3,
        "name": "ipython"
      }
    }
  },
  "nbformat": 4,
  "nbformat_minor": 1
}