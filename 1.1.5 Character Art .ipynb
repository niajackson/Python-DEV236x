{
  "cells": [
    {
      "metadata": {
        "trusted": true
      },
      "cell_type": "code",
      "source": "# the letter 'A'\nprint(\"    *\")\nprint(\"   * *\")\nprint(\"  *****\")\nprint(\" *     *\")\nprint(\"*       *\")\nprint()",
      "execution_count": 1,
      "outputs": [
        {
          "output_type": "stream",
          "text": "    *\n   * *\n  *****\n *     *\n*       *\n\n",
          "name": "stdout"
        }
      ]
    },
    {
      "metadata": {
        "trusted": true
      },
      "cell_type": "code",
      "source": "# create # [ ] flying bird character art \nprint(\"_         _\")      \nprint(\" \\       /\")     \nprint(\"  \\ . . /\")   \nprint(\"     V\")\nprint()",
      "execution_count": 2,
      "outputs": [
        {
          "output_type": "stream",
          "text": "_         _\n \\       /\n  \\ . . /\n     V\n\n",
          "name": "stdout"
        }
      ]
    }
  ],
  "metadata": {
    "kernelspec": {
      "name": "python3",
      "display_name": "Python 3",
      "language": "python"
    },
    "language_info": {
      "mimetype": "text/x-python",
      "nbconvert_exporter": "python",
      "name": "python",
      "pygments_lexer": "ipython3",
      "version": "3.5.4",
      "file_extension": ".py",
      "codemirror_mode": {
        "version": 3,
        "name": "ipython"
      }
    }
  },
  "nbformat": 4,
  "nbformat_minor": 1
}