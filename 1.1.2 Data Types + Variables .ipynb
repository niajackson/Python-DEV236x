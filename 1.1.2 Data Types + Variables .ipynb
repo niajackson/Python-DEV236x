{
  "cells": [
    {
      "metadata": {
        "trusted": true
      },
      "cell_type": "code",
      "source": "# [ ] enter a string in the print() function using single quotes\nprint('I put the siiiiiing in single')",
      "execution_count": 1,
      "outputs": [
        {
          "output_type": "stream",
          "text": "I put the siiiiiing in single\n",
          "name": "stdout"
        }
      ]
    },
    {
      "metadata": {
        "trusted": true
      },
      "cell_type": "code",
      "source": "# [ ] enter a string in the print() function using double quotes\nprint(\"put on any song by the double mint twins\")",
      "execution_count": 2,
      "outputs": [
        {
          "output_type": "stream",
          "text": "put on any song by the double mint twins\n",
          "name": "stdout"
        }
      ]
    },
    {
      "metadata": {
        "trusted": true
      },
      "cell_type": "code",
      "source": "# The difference between a numerical string and an interger are the quotes\nprint(\"123\") # this is a string\nprint(123) # this is an interger",
      "execution_count": 3,
      "outputs": [
        {
          "output_type": "stream",
          "text": "123\n123\n",
          "name": "stdout"
        }
      ]
    },
    {
      "metadata": {
        "trusted": true
      },
      "cell_type": "code",
      "source": "# [ ] print an Integer\nprint(333)",
      "execution_count": 4,
      "outputs": [
        {
          "output_type": "stream",
          "text": "333\n",
          "name": "stdout"
        }
      ]
    },
    {
      "metadata": {
        "trusted": true
      },
      "cell_type": "code",
      "source": "# [ ] print a strings made of Integer characters\nprint('234')",
      "execution_count": 5,
      "outputs": [
        {
          "output_type": "stream",
          "text": "234\n",
          "name": "stdout"
        }
      ]
    },
    {
      "metadata": {
        "trusted": true
      },
      "cell_type": "code",
      "source": "# in the cell below: -print the variable current_msg -assign a new string to current_msg -print the variable current_msg again -run the code cell above and then run the cell below\n",
      "execution_count": null,
      "outputs": []
    },
    {
      "metadata": {
        "trusted": true
      },
      "cell_type": "code",
      "source": "current_msg = 'bad bitch'\nprint(current_msg)\n",
      "execution_count": 14,
      "outputs": [
        {
          "output_type": "stream",
          "text": "bad bitch\n",
          "name": "stdout"
        }
      ]
    },
    {
      "metadata": {
        "trusted": true
      },
      "cell_type": "code",
      "source": "current_msg = 'im that bitch'\nprint(current_msg)",
      "execution_count": 12,
      "outputs": [
        {
          "output_type": "stream",
          "text": "im that bitch\n",
          "name": "stdout"
        }
      ]
    },
    {
      "metadata": {
        "trusted": true
      },
      "cell_type": "code",
      "source": "print(current_msg)",
      "execution_count": 15,
      "outputs": [
        {
          "output_type": "stream",
          "text": "bad bitch\n",
          "name": "stdout"
        }
      ]
    },
    {
      "metadata": {
        "trusted": true
      },
      "cell_type": "code",
      "source": "# [ ] assign a string value to a variable student_name\nstudent_name = 'Michael' \n# [ ] print the value of variable student_name\nprint(student_name)",
      "execution_count": 18,
      "outputs": [
        {
          "output_type": "stream",
          "text": "Michael\n",
          "name": "stdout"
        }
      ]
    },
    {
      "metadata": {
        "trusted": true
      },
      "cell_type": "code",
      "source": "# [ ] assign the student_name variable  a different string value (a different name)\nstudent_name = 'Eric'\n# [ ] assign the student_name variable  a different string value (a different name)\nprint(student_name)\n# [ ] assign a 3rd different string value, to the variable name \nstudent_name = 'Jackson'\n# [ ] print the value of variable name\nprint (student_name)",
      "execution_count": 20,
      "outputs": [
        {
          "output_type": "stream",
          "text": "Eric\nJackson\n",
          "name": "stdout"
        }
      ]
    },
    {
      "metadata": {
        "trusted": true
      },
      "cell_type": "code",
      "source": "# [ ] assigning a value to a variable called bucket\nbucket = \"cars\"\n# [ ] print the value of bucket \nprint(bucket)\n# [ ] assign an Integer value (no quotes) to the variable bucket\nbucket = 123\n# [ ] print the value of bucket \nprint(bucket)",
      "execution_count": 22,
      "outputs": [
        {
          "output_type": "stream",
          "text": "cars\n123\n",
          "name": "stdout"
        }
      ]
    },
    {
      "metadata": {
        "trusted": true
      },
      "cell_type": "code",
      "source": "print(123) #integer, with numeric value\nprint(\"123\") #string, represents text characters",
      "execution_count": 23,
      "outputs": [
        {
          "output_type": "stream",
          "text": "123\n123\n",
          "name": "stdout"
        }
      ]
    }
  ],
  "metadata": {
    "kernelspec": {
      "name": "python3",
      "display_name": "Python 3",
      "language": "python"
    },
    "language_info": {
      "mimetype": "text/x-python",
      "nbconvert_exporter": "python",
      "name": "python",
      "pygments_lexer": "ipython3",
      "version": "3.5.4",
      "file_extension": ".py",
      "codemirror_mode": {
        "version": 3,
        "name": "ipython"
      }
    }
  },
  "nbformat": 4,
  "nbformat_minor": 1
}