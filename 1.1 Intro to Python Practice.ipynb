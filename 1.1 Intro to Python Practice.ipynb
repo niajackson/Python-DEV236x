{
  "cells": [
    {
      "metadata": {
        "trusted": true
      },
      "cell_type": "code",
      "source": "# [ ] print 'Hello!' and remember to save notebook! print('Hello!')\nprint(\"Hello!\")",
      "execution_count": 1,
      "outputs": [
        {
          "output_type": "stream",
          "text": "Hello!\n",
          "name": "stdout"
        }
      ]
    },
    {
      "metadata": {
        "trusted": true,
        "scrolled": false
      },
      "cell_type": "code",
      "source": "# print('watch for the cat')\nprint('watch for the cat')",
      "execution_count": 2,
      "outputs": [
        {
          "output_type": "stream",
          "text": "watch for the cat\n",
          "name": "stdout"
        }
      ]
    },
    {
      "metadata": {
        "trusted": true,
        "scrolled": true
      },
      "cell_type": "code",
      "source": "# [ ] print your name\n# [ ] print \"is using Python\nyour_name = 'Nia'\nprint(your_name,'is using Python')",
      "execution_count": 7,
      "outputs": [
        {
          "output_type": "stream",
          "text": "Nia is using Python\n",
          "name": "stdout"
        }
      ]
    },
    {
      "metadata": {
        "trusted": true
      },
      "cell_type": "code",
      "source": "# [ ] create a variable your_name and assign it a string containing your name\n#[ ] print your_name\nyour_name = 'Nia'\nprint(your_name + ' is going to become a data analyst!')",
      "execution_count": 9,
      "outputs": [
        {
          "output_type": "stream",
          "text": "Nia is going to become a data analyst!\n",
          "name": "stdout"
        }
      ]
    },
    {
      "metadata": {
        "trusted": true
      },
      "cell_type": "code",
      "source": "# [ ] create variables and assign values for: favorite_song, shoe_size, lucky_number\n# [ ] print the value of each variable favorite_song, shoe_size, and lucky_number\nfavorite_song = 'Whatcha See is Watcha Get'\nshoe_size = '7 1/2'\nlucky_number = '3'\nprint(favorite_song)\nprint(shoe_size)\nprint(lucky_number)\n# print the above string variables (favorite_song, shoe_size, lucky_number) combined with a description by using string addition\n# [ ] print favorite_song with description\nprint('My favorite song is '+ favorite_song + ' by The Dramatics')\n# [ ] print shoe_size with description\nprint('My shoe size is ' + shoe_size)\n# [ ] print lucky_number with description\nprint(lucky_number + ' is my favorite number')",
      "execution_count": 12,
      "outputs": [
        {
          "output_type": "stream",
          "text": "Whatcha See is Watcha Get\n7 1/2\n3\nMy favorite song is Whatcha See is Watcha Get by The Dramatics\nMy shoe size is 7 1/2\n3 is my favorite number\n",
          "name": "stdout"
        }
      ]
    },
    {
      "metadata": {
        "trusted": true,
        "scrolled": true
      },
      "cell_type": "code",
      "source": "# make a single string (sentence) in a variable called favorite_lucky_shoe using string addition with favorite_song, shoe_size, lucky_number variables and other strings as needed\n# print the value of the favorite_lucky_shoe variable string\nfav_lucky_shoe = \"My favorite shoes are blue platforms. I bought them in the size \" + shoe_size + \".\" + \" I've already danced to \" + favorite_song + \" in them about \" + lucky_number + \" times.\"\nprint(fav_lucky_shoe)",
      "execution_count": 13,
      "outputs": [
        {
          "output_type": "stream",
          "text": "My favorite shoes are blue platforms. I bought them in the size 7 1/2. I've already danced to Whatcha See is Watcha Get in them about 3 times.\n",
          "name": "stdout"
        }
      ]
    },
    {
      "metadata": {
        "trusted": true
      },
      "cell_type": "code",
      "source": "# [ ] print a diagonal using \"*\"\nprint('*')\nprint('*')\nprint('*')\nprint('*')",
      "execution_count": 16,
      "outputs": [
        {
          "output_type": "stream",
          "text": "*\n*\n*\n*\n",
          "name": "stdout"
        }
      ]
    },
    {
      "metadata": {
        "trusted": true
      },
      "cell_type": "code",
      "source": "# [ ] rectangle using \"*\"\nprint('******')\nprint('*    *')\nprint('*    *')\nprint('******')",
      "execution_count": 17,
      "outputs": [
        {
          "output_type": "stream",
          "text": "******\n*    *\n*    *\n******\n",
          "name": "stdout"
        }
      ]
    },
    {
      "metadata": {
        "trusted": true
      },
      "cell_type": "code",
      "source": "# [ ] smiley using \"*\"\nprint('*       *')\nprint('    *    ')\nprint(' *     *')\nprint('  * * *')\n",
      "execution_count": 18,
      "outputs": [
        {
          "output_type": "stream",
          "text": "*       *\n    *    \n *     *\n  * * *\n",
          "name": "stdout"
        }
      ]
    },
    {
      "metadata": {
        "trusted": true
      },
      "cell_type": "code",
      "source": "# [ ] display the type of 'your name' (use single quotes)\ntype('your name')",
      "execution_count": 27,
      "outputs": [
        {
          "output_type": "execute_result",
          "execution_count": 27,
          "data": {
            "text/plain": "str"
          },
          "metadata": {}
        }
      ]
    },
    {
      "metadata": {
        "trusted": true
      },
      "cell_type": "code",
      "source": "# [ ] display the type of \"save your notebook!\" (use double quotes)\ntype(\"save your notebook\")",
      "execution_count": 20,
      "outputs": [
        {
          "output_type": "execute_result",
          "execution_count": 20,
          "data": {
            "text/plain": "str"
          },
          "metadata": {}
        }
      ]
    },
    {
      "metadata": {
        "trusted": true
      },
      "cell_type": "code",
      "source": "# [ ] display the type of \"25\" (use quotes)\ntype('25')",
      "execution_count": 21,
      "outputs": [
        {
          "output_type": "execute_result",
          "execution_count": 21,
          "data": {
            "text/plain": "str"
          },
          "metadata": {}
        }
      ]
    },
    {
      "metadata": {
        "trusted": true
      },
      "cell_type": "code",
      "source": "# [ ] display the type of \"save your notebook \" + 'your name'\ntype('save your notebook' + 'your name')",
      "execution_count": 22,
      "outputs": [
        {
          "output_type": "execute_result",
          "execution_count": 22,
          "data": {
            "text/plain": "str"
          },
          "metadata": {}
        }
      ]
    },
    {
      "metadata": {
        "trusted": true
      },
      "cell_type": "code",
      "source": "# [ ] display the type of 25 (no quotes)\ntype(25)",
      "execution_count": 23,
      "outputs": [
        {
          "output_type": "execute_result",
          "execution_count": 23,
          "data": {
            "text/plain": "int"
          },
          "metadata": {}
        }
      ]
    },
    {
      "metadata": {
        "trusted": true
      },
      "cell_type": "code",
      "source": "# [ ] display the type of 25 + 10 \ntype(25 + 10)",
      "execution_count": 24,
      "outputs": [
        {
          "output_type": "execute_result",
          "execution_count": 24,
          "data": {
            "text/plain": "int"
          },
          "metadata": {}
        }
      ]
    },
    {
      "metadata": {
        "trusted": true
      },
      "cell_type": "code",
      "source": "# [ ] display the type of 1.55\ntype(1.55)",
      "execution_count": 25,
      "outputs": [
        {
          "output_type": "execute_result",
          "execution_count": 25,
          "data": {
            "text/plain": "float"
          },
          "metadata": {}
        }
      ]
    },
    {
      "metadata": {
        "trusted": true
      },
      "cell_type": "code",
      "source": "# [ ] display the type of 1.55 + 25\ntype(1.55 + 25)",
      "execution_count": 26,
      "outputs": [
        {
          "output_type": "execute_result",
          "execution_count": 26,
          "data": {
            "text/plain": "float"
          },
          "metadata": {}
        }
      ]
    },
    {
      "metadata": {
        "trusted": true
      },
      "cell_type": "code",
      "source": "# assignments ***RUN THIS CELL*** before starting the section\n \nstudent_name = \"Gus\"\nstudent_age = 16\nstudent_grade = 3.5\nstudent_id = \"ABC-000-000\"",
      "execution_count": 29,
      "outputs": []
    },
    {
      "metadata": {
        "trusted": true
      },
      "cell_type": "code",
      "source": "# [ ] display the current type of the variable student_name\ntype(student_name)",
      "execution_count": 30,
      "outputs": [
        {
          "output_type": "execute_result",
          "execution_count": 30,
          "data": {
            "text/plain": "str"
          },
          "metadata": {}
        }
      ]
    },
    {
      "metadata": {
        "trusted": true
      },
      "cell_type": "code",
      "source": "# [ ] display the type of student_age\ntype(student_age)",
      "execution_count": 31,
      "outputs": [
        {
          "output_type": "execute_result",
          "execution_count": 31,
          "data": {
            "text/plain": "int"
          },
          "metadata": {}
        }
      ]
    },
    {
      "metadata": {
        "trusted": true
      },
      "cell_type": "code",
      "source": "# [ ] display the type of student_grade\ntype(student_grade)",
      "execution_count": 32,
      "outputs": [
        {
          "output_type": "execute_result",
          "execution_count": 32,
          "data": {
            "text/plain": "float"
          },
          "metadata": {}
        }
      ]
    },
    {
      "metadata": {
        "trusted": true
      },
      "cell_type": "code",
      "source": "# [ ] display the type of student_age + student_grade\ntype(student_age + student_grade)",
      "execution_count": 33,
      "outputs": [
        {
          "output_type": "execute_result",
          "execution_count": 33,
          "data": {
            "text/plain": "float"
          },
          "metadata": {}
        }
      ]
    },
    {
      "metadata": {
        "trusted": true
      },
      "cell_type": "code",
      "source": "# [ ] display the current type of student_id\ntype(student_id)",
      "execution_count": 34,
      "outputs": [
        {
          "output_type": "execute_result",
          "execution_count": 34,
          "data": {
            "text/plain": "str"
          },
          "metadata": {}
        }
      ]
    },
    {
      "metadata": {
        "trusted": true
      },
      "cell_type": "code",
      "source": "# assign new value to student_id \nstudent_id = 3311",
      "execution_count": 36,
      "outputs": []
    },
    {
      "metadata": {
        "trusted": true
      },
      "cell_type": "code",
      "source": "# [ ] display the current type of student_id\ntype(student_id)",
      "execution_count": 37,
      "outputs": [
        {
          "output_type": "execute_result",
          "execution_count": 37,
          "data": {
            "text/plain": "int"
          },
          "metadata": {}
        }
      ]
    },
    {
      "metadata": {
        "trusted": true
      },
      "cell_type": "code",
      "source": "# [ ] create integer variables (x, y, z) and assign them 1-3 digit integers (no decimals - no quotes)\nx = 45\ny = 98\nz = 333",
      "execution_count": 38,
      "outputs": []
    },
    {
      "metadata": {
        "trusted": true
      },
      "cell_type": "code",
      "source": "# create an integer variable named xyz_sum equal to the sum of x, y, and z\n# print the value of xyz_sum\nxyz_sum = 45 + 98 + 33\nprint(xyz_sum)",
      "execution_count": 39,
      "outputs": [
        {
          "output_type": "stream",
          "text": "176\n",
          "name": "stdout"
        }
      ]
    },
    {
      "metadata": {
        "trusted": true
      },
      "cell_type": "code",
      "source": "# [ ] fix the error:    print(\"Hello World!\"\")  \nprint(\"Hello World!\")  ",
      "execution_count": 40,
      "outputs": [
        {
          "output_type": "stream",
          "text": "Hello World!\n",
          "name": "stdout"
        }
      ]
    },
    {
      "metadata": {
        "trusted": true
      },
      "cell_type": "code",
      "source": "# [ ] fix the error: print(strings have quotes and variables have names)\nprint('strings have quotes and variables have names')",
      "execution_count": 41,
      "outputs": [
        {
          "output_type": "stream",
          "text": "strings have quotes and variables have names\n",
          "name": "stdout"
        }
      ]
    },
    {
      "metadata": {
        "trusted": true
      },
      "cell_type": "code",
      "source": "# [ ] fix the error: print( \"I have $\" + 5)\nprint(\"I have $\" + \"5\")",
      "execution_count": 42,
      "outputs": [
        {
          "output_type": "stream",
          "text": "I have $5\n",
          "name": "stdout"
        }
      ]
    },
    {
      "metadata": {
        "trusted": true
      },
      "cell_type": "code",
      "source": "# [ ] fix the error: print('always save the notebook\")\nprint('always save the notebook')",
      "execution_count": 43,
      "outputs": [
        {
          "output_type": "stream",
          "text": "always save the notebook\n",
          "name": "stdout"
        }
      ]
    },
    {
      "metadata": {
        "trusted": true
      },
      "cell_type": "code",
      "source": "#  Display first name or initials as ASCII Art\nprint('*     *')\nprint('* *   *')\nprint('*   * *')\nprint('*    **')",
      "execution_count": 44,
      "outputs": [
        {
          "output_type": "stream",
          "text": "*     *\n* *   *\n*   * *\n*    **\n",
          "name": "stdout"
        }
      ]
    }
  ],
  "metadata": {
    "kernelspec": {
      "name": "python3",
      "display_name": "Python 3",
      "language": "python"
    },
    "language_info": {
      "mimetype": "text/x-python",
      "nbconvert_exporter": "python",
      "name": "python",
      "file_extension": ".py",
      "version": "3.5.4",
      "pygments_lexer": "ipython3",
      "codemirror_mode": {
        "version": 3,
        "name": "ipython"
      }
    }
  },
  "nbformat": 4,
  "nbformat_minor": 1
}