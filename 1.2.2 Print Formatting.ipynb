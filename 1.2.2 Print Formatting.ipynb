{
  "cells": [
    {
      "metadata": {
        "trusted": true
      },
      "cell_type": "code",
      "source": "# Example\nname = \"Vannessa\"\nprint(\"Hi there\",name,\"you look nice today\")",
      "execution_count": 1,
      "outputs": [
        {
          "output_type": "stream",
          "text": "Hi there Vannessa you look nice today\n",
          "name": "stdout"
        }
      ]
    },
    {
      "metadata": {
        "trusted": true
      },
      "cell_type": "code",
      "source": "# [ ] print 3 strings on the same line using commas inside the print() function \ncolor = 'yellow'\nprint('the color',color,\"is very pretty\")",
      "execution_count": 3,
      "outputs": [
        {
          "output_type": "stream",
          "text": "the color yellow is very pretty\n",
          "name": "stdout"
        }
      ]
    },
    {
      "metadata": {
        "trusted": true
      },
      "cell_type": "code",
      "source": "# [ ]2 use a print() function with comma separation to combine 2 numbers and 2 strings\nprint(\"come over @\",4,\"the elephant will be here with\",2,\"clowns\")",
      "execution_count": 4,
      "outputs": [
        {
          "output_type": "stream",
          "text": "come over @ 4 the elephant will be here with 2 clowns\n",
          "name": "stdout"
        }
      ]
    },
    {
      "metadata": {
        "trusted": true
      },
      "cell_type": "code",
      "source": "# []3 initialize variables with input() street, st_number\nstreet = input('Street? ')\nst_number = input('St #? ')\nprint('Street: '+ street)\nprint('St #: '+ st_number)",
      "execution_count": 5,
      "outputs": [
        {
          "output_type": "stream",
          "name": "stdout",
          "text": "Street? Inwwod\nSt #? 4567\nStreet: Inwwod\nSt #: 4567\n"
        }
      ]
    },
    {
      "metadata": {
        "trusted": true
      },
      "cell_type": "code",
      "source": "print('she lives on',street,'the house number is',st_number)",
      "execution_count": 6,
      "outputs": [
        {
          "output_type": "stream",
          "text": "she lives on Inwwod the house number is 4567\n",
          "name": "stdout"
        }
      ]
    },
    {
      "metadata": {
        "trusted": true
      },
      "cell_type": "code",
      "source": "# []4 define a variable with a string or numeric value \n# display a message combining the variable, 1 or more literal strings and a number\nfav_num = 3\nprint('Her favorite number is',fav_num,'mine is',6)",
      "execution_count": 7,
      "outputs": [
        {
          "output_type": "stream",
          "text": "Her favorite number is 3 mine is 6\n",
          "name": "stdout"
        }
      ]
    },
    {
      "metadata": {
        "trusted": true
      },
      "cell_type": "code",
      "source": "# []5\nname = input('Name: ')\nnum_ppl = input('Number of People Attending: ')\ntime = input('Time Slot: ')\nprint('Name: '+ name)\nprint('Number of People: '+ num_ppl)\nprint('Time Slot '+ time)\nmin_early = '10 minutes'\nprint('Training starts at',time,'for',name,'group of',num_ppl,'please come',min_early,'early')",
      "execution_count": 9,
      "outputs": [
        {
          "output_type": "stream",
          "name": "stdout",
          "text": "Name: Josh\nNumber of People Attending: 89\nTime Slot: 9:00am\nName: Josh\nNumber of People: 89\nTime Slot 9:00am\nTraining starts at 9:00am for Josh group of 89 please come 10 minutes early\n"
        }
      ]
    }
  ],
  "metadata": {
    "kernelspec": {
      "name": "python3",
      "display_name": "Python 3",
      "language": "python"
    },
    "language_info": {
      "mimetype": "text/x-python",
      "nbconvert_exporter": "python",
      "name": "python",
      "file_extension": ".py",
      "version": "3.5.4",
      "pygments_lexer": "ipython3",
      "codemirror_mode": {
        "version": 3,
        "name": "ipython"
      }
    }
  },
  "nbformat": 4,
  "nbformat_minor": 1
}