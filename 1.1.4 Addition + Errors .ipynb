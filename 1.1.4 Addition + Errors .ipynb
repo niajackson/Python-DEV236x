{
  "cells": [
    {
      "metadata": {
        "trusted": true
      },
      "cell_type": "code",
      "source": "# [ ] add 3 integer numbers\n3 + 7 + 8\n\n# [ ] add a float number and an integer number\n3 + 7.8\n\n# [ ] Add the string \"This notebook belongs to \" and a string with your first name\n\"this notebook belongs to \" + \"Nia\"\n\n# [ ] Create variables sm_number and big_number and assign numbers then add the numbers\nsm_number = 3\nbig_number= 79\nsm_number + big_number\n\n# [ ] assign a string value to the variable first_name and add to the string \", remember to save the notebook frequently\"\nfirst_name = \"Nia\"\nfirst_name + \", remember to save the notebook frequently\"",
      "execution_count": 7,
      "outputs": [
        {
          "output_type": "execute_result",
          "execution_count": 7,
          "data": {
            "text/plain": "'Nia, remember to save the notebook frequently'"
          },
          "metadata": {}
        }
      ]
    },
    {
      "metadata": {
        "trusted": true
      },
      "cell_type": "code",
      "source": "# [ ] perform string addition in the variable named new_msg (add a string to \"my favorite food is \") new_msg = \"My favorite food is\" print(new_msg)\nnew_msg = \"My favorite food is \" + \"mac and cheese!\"\nprint(new_msg)",
      "execution_count": 11,
      "outputs": [
        {
          "output_type": "stream",
          "text": "My favorite food is mac and cheese!\n",
          "name": "stdout"
        }
      ]
    },
    {
      "metadata": {
        "trusted": true
      },
      "cell_type": "code",
      "source": "# [ ] perform Integer addition in the variable named new_sum (add 2 or more Integers)\nnew_sum = 0 + 8 + 9\nprint(new_sum)",
      "execution_count": 12,
      "outputs": [
        {
          "output_type": "stream",
          "text": "17\n",
          "name": "stdout"
        }
      ]
    },
    {
      "metadata": {
        "trusted": true
      },
      "cell_type": "code",
      "source": "# [ ] create and print a new string variable, new_msg_2, that concatenates new_msg + a literal string\nnew_msg_2 = \" I'd eat it every day if I could.\"\nprint(new_msg + new_msg_2)",
      "execution_count": 14,
      "outputs": [
        {
          "output_type": "stream",
          "text": "My favorite food is mac and cheese! I'd eat it every day if I could.\n",
          "name": "stdout"
        }
      ]
    },
    {
      "metadata": {
        "trusted": true
      },
      "cell_type": "code",
      "source": "# [ ] review and run the code - then fix any Errors: total_cost = 3 + \"45\" print(total_cost)\ntotal_cost = 3 + 45\nprint(total_cost)\n",
      "execution_count": 15,
      "outputs": [
        {
          "output_type": "stream",
          "text": "48\n",
          "name": "stdout"
        }
      ]
    },
    {
      "metadata": {
        "trusted": true
      },
      "cell_type": "code",
      "source": "# [ ] review and run the code - then fix any Errors: school_num = 123 print(\"the street number of Central School is \" + school_num)\nschool_num = \"123\"\nprint(\"the street number of Central School is \" + school_num)",
      "execution_count": 17,
      "outputs": [
        {
          "output_type": "stream",
          "text": "the street number of Central School is 123\n",
          "name": "stdout"
        }
      ]
    },
    {
      "metadata": {
        "trusted": true
      },
      "cell_type": "code",
      "source": "# [ ] Read and run the code - write a hypothesis for what you observe adding float + int\n#print(type(3.3))\n#print(type(3))\n#print(3.3 + 3)\n\n#  [ ] HYPOTHESIS: int or error\nprint(type(3.3))\nprint(type(3))\nprint(3.3 + 3)\n",
      "execution_count": 23,
      "outputs": [
        {
          "output_type": "stream",
          "text": "<class 'float'>\n<class 'int'>\n6.3\n",
          "name": "stdout"
        }
      ]
    },
    {
      "metadata": {
        "trusted": true
      },
      "cell_type": "code",
      "source": "# [ ] repair the syntax error: print('my socks do not match\")\nprint('my socks do not match')",
      "execution_count": 24,
      "outputs": [
        {
          "output_type": "stream",
          "text": "my socks do not match\n",
          "name": "stdout"
        }
      ]
    },
    {
      "metadata": {
        "trusted": true
      },
      "cell_type": "code",
      "source": "# [ ] repair the NameError: pront(\"my socks match now\") \nprint(\"my socks match now\") ",
      "execution_count": 25,
      "outputs": [
        {
          "output_type": "stream",
          "text": "my socks match now\n",
          "name": "stdout"
        }
      ]
    },
    {
      "metadata": {
        "trusted": true
      },
      "cell_type": "code",
      "source": "# [ ] repair the syntax error: print\"Save the notebook frequently\")\nprint(\"Save the notebook frequently\")",
      "execution_count": 26,
      "outputs": [
        {
          "output_type": "stream",
          "text": "Save the notebook frequently\n",
          "name": "stdout"
        }
      ]
    },
    {
      "metadata": {
        "trusted": true
      },
      "cell_type": "code",
      "source": "# [ ] repair the NameError: student_name = \"Alton\" print(STUDENT_NAME)\nstudent_name = \"Alton\"\nprint(student_name)",
      "execution_count": 28,
      "outputs": [
        {
          "output_type": "stream",
          "text": "Alton\n",
          "name": "stdout"
        }
      ]
    },
    {
      "metadata": {
        "trusted": true
      },
      "cell_type": "code",
      "source": "# [ ] repair the TypeError: total = 3 print(total + \" students are signed up for tutoring\")\ntotal = \"3\"\nprint(total + \" students are signed up for tutoring\")",
      "execution_count": 29,
      "outputs": [
        {
          "output_type": "stream",
          "text": "3 students are signed up for tutoring\n",
          "name": "stdout"
        }
      ]
    }
  ],
  "metadata": {
    "kernelspec": {
      "name": "python3",
      "display_name": "Python 3",
      "language": "python"
    },
    "language_info": {
      "mimetype": "text/x-python",
      "nbconvert_exporter": "python",
      "name": "python",
      "pygments_lexer": "ipython3",
      "version": "3.5.4",
      "file_extension": ".py",
      "codemirror_mode": {
        "version": 3,
        "name": "ipython"
      }
    }
  },
  "nbformat": 4,
  "nbformat_minor": 1
}