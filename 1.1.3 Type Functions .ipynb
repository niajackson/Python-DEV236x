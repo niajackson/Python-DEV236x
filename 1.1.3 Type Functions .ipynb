{
  "cells": [
    {
      "metadata": {
        "trusted": true
      },
      "cell_type": "code",
      "source": "# [ ] read and run the code\ntype(\"I dont dance now\")\ntype(501)\ntype(8.33)\n",
      "execution_count": 3,
      "outputs": [
        {
          "output_type": "execute_result",
          "execution_count": 3,
          "data": {
            "text/plain": "float"
          },
          "metadata": {}
        }
      ]
    },
    {
      "metadata": {
        "trusted": true
      },
      "cell_type": "code",
      "source": "# [ ] show the type after assigning bucket = a whole number value such as 16 \nbucket = 12\ntype(bucket)\n# [ ] show  the type after assigning bucket = a word in \"double quotes\"\nbucket = \"hi\"\ntype(bucket)\n# [ ] display the type of 'single quoting' (use single quotes) \nbucket = ''\ntype(bucket)\n# [ ] display the type of \"double quoting\" (use double quotes)\nbucket = \"\"\ntype(bucket)\n# [ ] display the type of \"12\" (use quotes)\nbucket = '12'\ntype(bucket)\n# [ ] display the type of 12 (no quotes)\nbucket = 12\ntype(bucket)\n# [ ] display the type of -12 (no quotes)\nbucket = -12\ntype(bucket)\n# [ ] display the type of 12.0 (no quotes)\nbucket = 12.0\ntype(bucket)\n# [ ] display the type of 1.55\nbucket = 1.55\ntype(bucket)\n# [ ] find the type of the type(3) statement (no quotes) - just for fun\ntype(3)\n\n",
      "execution_count": 15,
      "outputs": [
        {
          "output_type": "execute_result",
          "execution_count": 15,
          "data": {
            "text/plain": "int"
          },
          "metadata": {}
        }
      ]
    }
  ],
  "metadata": {
    "kernelspec": {
      "name": "python3",
      "display_name": "Python 3",
      "language": "python"
    },
    "language_info": {
      "mimetype": "text/x-python",
      "nbconvert_exporter": "python",
      "name": "python",
      "file_extension": ".py",
      "version": "3.5.4",
      "pygments_lexer": "ipython3",
      "codemirror_mode": {
        "version": 3,
        "name": "ipython"
      }
    }
  },
  "nbformat": 4,
  "nbformat_minor": 1
}