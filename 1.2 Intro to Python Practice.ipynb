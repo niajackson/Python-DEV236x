{
  "cells": [
    {
      "metadata": {
        "trusted": true
      },
      "cell_type": "code",
      "source": "# [ ] get user input for a variable named remind_me\nremind_me = input('Assignments: ')\n# [ ] print the value of the variable remind_me\nprint(remind_me)\n# use string addition to print \"remember: \" before the remind_me input string\nprint(\"remember: \",remind_me)",
      "execution_count": 3,
      "outputs": [
        {
          "output_type": "stream",
          "name": "stdout",
          "text": "Assignments: Python\nPython\nremember:  Python\n"
        }
      ]
    },
    {
      "metadata": {
        "trusted": true
      },
      "cell_type": "code",
      "source": "# [ ] get user input for 2 variables: meeting_subject and meeting_time\nmeet_sub = input('Subject?:')\nmeet_time = input('Meeting Time?:')\n# [ ] use string addition to print meeting subject and time with labels\nprint('Subject?:',meet_sub,'Meeting Time?:',meet_time)",
      "execution_count": 6,
      "outputs": [
        {
          "output_type": "stream",
          "name": "stdout",
          "text": "Subject?:Python\nMeeting Time?:11am M-F\nSubject?: Python Meeting Time?: 11am M-F\n"
        }
      ]
    },
    {
      "metadata": {
        "trusted": true
      },
      "cell_type": "code",
      "source": "# [ ] print the combined strings \"Wednesday is\" and \"in the middle of the week\" \nprint(\"Wednesday is\",\"in the middle of the week\")\n# [ ] print combined string \"Remember to\" and the string variable remind_me from input above\nprint(\"Remember to\",remind_me)\n# [ ] Combine 3 variables from above with multiple strings\nprint(\"I have\",remind_me,\"@\",meet_time,\"for\",meet_sub)",
      "execution_count": 7,
      "outputs": [
        {
          "output_type": "stream",
          "text": "Wednesday is in the middle of the week\nRemember to Python\nI have Python @ 11am M-F for Python\n",
          "name": "stdout"
        }
      ]
    },
    {
      "metadata": {
        "trusted": true
      },
      "cell_type": "code",
      "source": "# [ ] print a string sentence that will display an Apostrophe (')\nprint(\"Hi! I'm Nia.\")\n# [ ] print a string sentence that will display a quote(\") or quotes\nprint('She said,\"she aint no holla back girl\"')",
      "execution_count": 8,
      "outputs": [
        {
          "output_type": "stream",
          "text": "Hi! I'm Nia.\nShe said,\"she aint no holla back girl\"\n",
          "name": "stdout"
        }
      ]
    },
    {
      "metadata": {
        "trusted": true
      },
      "cell_type": "code",
      "source": "#get user input for a variable named vehicle\n#print the following tests results\nvehicle = input('Car?: ')\n#check True or False if vehicle is All alphabetical characters using .isalpha()\nprint(vehicle.isalpha())\n#check True or False if vehicle is only All alphabetical & numeric characters\nprint(vehicle.isalnum())\n#check True or False if vehicle is Capitalized (first letter only)\nprint(vehicle.istitle())\n#check True or False if vehicle is All lowercase\nprint(vehicle.islower())\n\n#bonus print description for each test (e.g.- \"All Alpha: True\")\n\n\n# [ ] print True or False if color starts with \"b\" \nprint(vehicle.startswith('b'))\n",
      "execution_count": 10,
      "outputs": [
        {
          "output_type": "stream",
          "name": "stdout",
          "text": "Car?: Toyota\nTrue\nTrue\nTrue\nFalse\nFalse\n"
        }
      ]
    },
    {
      "metadata": {
        "trusted": true
      },
      "cell_type": "code",
      "source": "# [ ] print the string variable capital_this Capitalizing only the first letter\ncapitalize_this = \"the TIME is Noon.\"\nprint(capitalize_this.capitalize())\n\n# print the string variable swap_this in swapped case\nswap_this = \"wHO writes LIKE tHIS?\"\nprint(swap_this.swapcase())\n\n# print the string variable whisper_this in all lowercase\nwhisper_this = \"Can you hear me?\"\nprint(whisper_this.lower())\n\n# print the string variable yell_this in all UPPERCASE\nyell_this = \"Can you hear me Now!?\"\nprint(yell_this.upper())\n\n#format input using .upper(), .lower(), .swapcase, .capitalize()\nformat_input = input('enter a string to reformat: ')\nprint(format_input.swapcase())",
      "execution_count": 12,
      "outputs": [
        {
          "output_type": "stream",
          "text": "The time is noon.\nWho WRITES like This?\ncan you hear me?\nCAN YOU HEAR ME NOW!?\nenter a string to reformat: I gOt MoNeY eVeRyWhErE\ni GoT mOnEy EvErYwHeRe\n",
          "name": "stdout"
        }
      ]
    },
    {
      "metadata": {
        "trusted": true
      },
      "cell_type": "code",
      "source": "# [ ] get user input for a variable named color\n# [ ] modify color to be all lowercase and print\ncolor = input('color: ')\nprint(color.lower())",
      "execution_count": 14,
      "outputs": [
        {
          "output_type": "stream",
          "name": "stdout",
          "text": "color: YELLOW\nyellow\n"
        }
      ]
    },
    {
      "metadata": {
        "trusted": true
      },
      "cell_type": "code",
      "source": "# [ ] get user input using variable remind_me and format to all **lowercase** and print\n# [ ] test using input with mixed upper and lower cases\nremind_me = input('remind to: ')\nprint(remind_me.lower())",
      "execution_count": 16,
      "outputs": [
        {
          "output_type": "stream",
          "name": "stdout",
          "text": "remind to: LoJlan\nlojlan\n"
        }
      ]
    },
    {
      "metadata": {
        "trusted": true
      },
      "cell_type": "code",
      "source": "# [] get user input for the variable yell_this and format as a \"YELL\" to ALL CAPS\nyell_this = input('yell what? ')\nprint(yell_this.upper())",
      "execution_count": 18,
      "outputs": [
        {
          "output_type": "stream",
          "name": "stdout",
          "text": "yell what? live long and prosper\nLIVE LONG AND PROSPER\n"
        }
      ]
    },
    {
      "metadata": {
        "trusted": true
      },
      "cell_type": "code",
      "source": "# [ ] get user input for the name of some animals in the variable animals_input\nanimals_input = \"dog cat snake hamster birds fish\"\n# [ ] print true or false if 'cat' is in the string variable animals_input\nprint(\"cat\".lower() in animals_input.lower())",
      "execution_count": 19,
      "outputs": [
        {
          "output_type": "stream",
          "text": "True\n",
          "name": "stdout"
        }
      ]
    },
    {
      "metadata": {
        "trusted": true
      },
      "cell_type": "code",
      "source": "# [ ] get user input for color\ncolor = input('Fave color? ')\n# [ ] print True or False for starts with \"b\"\nprint(color.lower().startswith('b'))\n\n# [ ] print color variable value exactly as input \n#     test with input: \"Blue\", \"BLUE\", \"bLUE\"\n####### w/o the .lower() if the user inputs 'Blue' it would be read as false",
      "execution_count": 21,
      "outputs": [
        {
          "output_type": "stream",
          "name": "stdout",
          "text": "Fave color? BLue\nTrue\n"
        }
      ]
    },
    {
      "metadata": {
        "trusted": true
      },
      "cell_type": "code",
      "source": "#[ ] get user input for a single word describing something that can be read save in a variable called can_read e.g. - \"website\", \"newspaper\", \"blog\", \"textbook\"\ncan_read = input('What do you read? ')\n#[ ] get user input for 3 things can be read save in a variable called can_read_things\ncan_read_things = input('List three things you can read: ')\n\n###Kernel down go to pt.2",
      "execution_count": null,
      "outputs": []
    }
  ],
  "metadata": {
    "kernelspec": {
      "name": "python3",
      "display_name": "Python 3",
      "language": "python"
    },
    "language_info": {
      "mimetype": "text/x-python",
      "nbconvert_exporter": "python",
      "name": "python",
      "pygments_lexer": "ipython3",
      "version": "3.5.4",
      "file_extension": ".py",
      "codemirror_mode": {
        "version": 3,
        "name": "ipython"
      }
    }
  },
  "nbformat": 4,
  "nbformat_minor": 1
}