{
  "cells": [
    {
      "metadata": {
        "trusted": true
      },
      "cell_type": "code",
      "source": "# [ ] print() strings that display double and single quotation marks\nprint('I told my little sister \"annie oakley light that bitch up\"')\nprint(\"It's a hot girl summer\")",
      "execution_count": 3,
      "outputs": [
        {
          "output_type": "stream",
          "text": "I told my little sister \"annie oakley light that bitch up\"\nIt's a hot girl summer\n",
          "name": "stdout"
        }
      ]
    },
    {
      "metadata": {
        "trusted": true
      },
      "cell_type": "code",
      "source": "#[]2 \n# [ ] Use .isalpha() on the string \"alphabetical\"\n'alphabetical'.isalpha() #true\n# [ ] Use .isalpha() on the string: \"Are spaces and punctuation Alphabetical?\"\n\"Are spaces and punctuation Alphabetical?\".isalpha() #false\n# [ ] initialize variable alpha_test with input\nalpha_test = input(\"Name: \")",
      "execution_count": 7,
      "outputs": [
        {
          "output_type": "stream",
          "name": "stdout",
          "text": "Name: Tyler\n"
        }
      ]
    },
    {
      "metadata": {
        "trusted": true
      },
      "cell_type": "code",
      "source": "alpha_test.isalpha()",
      "execution_count": 8,
      "outputs": [
        {
          "output_type": "execute_result",
          "execution_count": 8,
          "data": {
            "text/plain": "True"
          },
          "metadata": {}
        }
      ]
    }
  ],
  "metadata": {
    "kernelspec": {
      "name": "python3",
      "display_name": "Python 3",
      "language": "python"
    },
    "language_info": {
      "mimetype": "text/x-python",
      "nbconvert_exporter": "python",
      "name": "python",
      "file_extension": ".py",
      "version": "3.5.4",
      "pygments_lexer": "ipython3",
      "codemirror_mode": {
        "version": 3,
        "name": "ipython"
      }
    }
  },
  "nbformat": 4,
  "nbformat_minor": 1
}